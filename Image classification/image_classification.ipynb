{
 "cells": [
  {
   "cell_type": "code",
   "execution_count": 15,
   "id": "9c14ae00-eec5-4746-8ebd-5a200fada4ad",
   "metadata": {},
   "outputs": [],
   "source": [
    "import tensorflow as tf\n",
    "from tensorflow.keras.preprocessing.image import ImageDataGenerator\n",
    "import os\n",
    "import requests\n",
    "import zipfile\n",
    "import math"
   ]
  },
  {
   "cell_type": "code",
   "execution_count": 2,
   "id": "b335ac6b-72a2-4b4e-9bb9-8052da6662c2",
   "metadata": {},
   "outputs": [],
   "source": [
    "# Create a directory to store the dataset\n",
    "os.makedirs('data', exist_ok=True)"
   ]
  },
  {
   "cell_type": "code",
   "execution_count": 3,
   "id": "526eb75d-54ef-4003-8ddb-747ad14cc669",
   "metadata": {},
   "outputs": [],
   "source": [
    "# URL of the dataset\n",
    "url = \"https://storage.googleapis.com/mledu-datasets/cats_and_dogs_filtered.zip\""
   ]
  },
  {
   "cell_type": "code",
   "execution_count": 4,
   "id": "27fc6b84-6d25-42a9-97c0-a964330c49b9",
   "metadata": {},
   "outputs": [],
   "source": [
    "# Download the dataset\n",
    "response = requests.get(url)\n",
    "zip_path = os.path.join('data', 'cats_and_dogs_filtered.zip')"
   ]
  },
  {
   "cell_type": "code",
   "execution_count": 5,
   "id": "571b19b1-fcfb-4a71-8693-c8d18bff527a",
   "metadata": {},
   "outputs": [
    {
     "name": "stdout",
     "output_type": "stream",
     "text": [
      "Dataset downloaded and saved.\n"
     ]
    }
   ],
   "source": [
    "# Save the downloaded zip file\n",
    "with open(zip_path, 'wb') as f:\n",
    "    f.write(response.content)\n",
    "\n",
    "print(\"Dataset downloaded and saved.\")"
   ]
  },
  {
   "cell_type": "code",
   "execution_count": 6,
   "id": "639670c3-63cb-4b0b-8d46-35a7955ade7c",
   "metadata": {},
   "outputs": [
    {
     "name": "stdout",
     "output_type": "stream",
     "text": [
      "Dataset extracted.\n"
     ]
    }
   ],
   "source": [
    "# Extract the zip file\n",
    "with zipfile.ZipFile(zip_path, 'r') as zip_ref:\n",
    "    zip_ref.extractall('data')\n",
    "\n",
    "print(\"Dataset extracted.\")"
   ]
  },
  {
   "cell_type": "code",
   "execution_count": 7,
   "id": "49206b40-d113-4820-8dce-0c7a98792ea4",
   "metadata": {},
   "outputs": [],
   "source": [
    "import tensorflow as tf\n",
    "from tensorflow.keras.preprocessing.image import ImageDataGenerator\n",
    "import matplotlib.pyplot as plt\n",
    "from tensorflow.keras import layers, models\n",
    "from sklearn.preprocessing import MinMaxScaler"
   ]
  },
  {
   "cell_type": "code",
   "execution_count": 8,
   "id": "a6757c7f-443c-41e2-aa5e-bc6a576d1702",
   "metadata": {},
   "outputs": [],
   "source": [
    "# Paths to training and validation data\n",
    "base_dir = 'data/cats_and_dogs_filtered'\n",
    "train_dir = os.path.join(base_dir, 'train')\n",
    "validation_dir = os.path.join(base_dir, 'validation')"
   ]
  },
  {
   "cell_type": "code",
   "execution_count": 9,
   "id": "4769b2b4-5706-4f12-93d8-d951f07d8443",
   "metadata": {},
   "outputs": [],
   "source": [
    "train_cats_dir = os.path.join(train_dir, 'cats')\n",
    "train_dogs_dir = os.path.join(train_dir, 'dogs')\n",
    "validation_cats_dir = os.path.join(validation_dir, 'cats')\n",
    "validation_dogs_dir = os.path.join(validation_dir, 'dogs')"
   ]
  },
  {
   "cell_type": "code",
   "execution_count": 10,
   "id": "12a09388-2ba8-4257-baa5-a1860996a72f",
   "metadata": {},
   "outputs": [],
   "source": [
    "# Data augmentation and normalization for training\n",
    "train_datagen = ImageDataGenerator(\n",
    "    rescale=1.0/255,\n",
    "    rotation_range=40,\n",
    "    width_shift_range=0.2,\n",
    "    height_shift_range=0.2,\n",
    "    shear_range=0.2,\n",
    "    zoom_range=0.2,\n",
    "    horizontal_flip=True,\n",
    "    fill_mode='nearest'\n",
    ")"
   ]
  },
  {
   "cell_type": "code",
   "execution_count": 11,
   "id": "9663af2c-e0e1-45d3-a233-c42226b79b0e",
   "metadata": {},
   "outputs": [],
   "source": [
    "# Normalization for validation\n",
    "validation_datagen = ImageDataGenerator(rescale=1.0/255)"
   ]
  },
  {
   "cell_type": "code",
   "execution_count": 12,
   "id": "c195e660-f6ab-41f6-b18b-75b1fbeb0a97",
   "metadata": {},
   "outputs": [
    {
     "name": "stdout",
     "output_type": "stream",
     "text": [
      "Found 2000 images belonging to 2 classes.\n"
     ]
    }
   ],
   "source": [
    "# Generators for reading images from directories\n",
    "train_generator = train_datagen.flow_from_directory(\n",
    "    train_dir,\n",
    "    target_size=(150, 150),\n",
    "    batch_size=32,\n",
    "    class_mode='binary'\n",
    ")"
   ]
  },
  {
   "cell_type": "code",
   "execution_count": 13,
   "id": "2db6b1a0-016f-4c41-a2c7-7ce142993631",
   "metadata": {},
   "outputs": [
    {
     "name": "stdout",
     "output_type": "stream",
     "text": [
      "Found 1000 images belonging to 2 classes.\n"
     ]
    }
   ],
   "source": [
    "validation_generator = validation_datagen.flow_from_directory(\n",
    "    validation_dir,\n",
    "    target_size=(150, 150),\n",
    "    batch_size=32,\n",
    "    class_mode='binary'\n",
    ")"
   ]
  },
  {
   "cell_type": "code",
   "execution_count": 16,
   "id": "71d188e1-04e5-4f80-8b9b-2b0e582d5b1c",
   "metadata": {},
   "outputs": [],
   "source": [
    "# Calculate steps per epoch\n",
    "train_steps_per_epoch = math.ceil(train_generator.samples / train_generator.batch_size)\n",
    "validation_steps_per_epoch = math.ceil(validation_generator.samples / validation_generator.batch_size)"
   ]
  },
  {
   "cell_type": "code",
   "execution_count": 17,
   "id": "613e9af3-ca75-4671-a4f2-1cf47aad5b02",
   "metadata": {},
   "outputs": [
    {
     "name": "stdout",
     "output_type": "stream",
     "text": [
      "WARNING:tensorflow:From C:\\Users\\Rugved Joshi\\AppData\\Local\\Programs\\Python\\Python310\\lib\\site-packages\\keras\\src\\backend.py:873: The name tf.get_default_graph is deprecated. Please use tf.compat.v1.get_default_graph instead.\n",
      "\n",
      "WARNING:tensorflow:From C:\\Users\\Rugved Joshi\\AppData\\Local\\Programs\\Python\\Python310\\lib\\site-packages\\keras\\src\\layers\\pooling\\max_pooling2d.py:161: The name tf.nn.max_pool is deprecated. Please use tf.nn.max_pool2d instead.\n",
      "\n"
     ]
    }
   ],
   "source": [
    "# Building the CNN model\n",
    "model = models.Sequential([\n",
    "    layers.Conv2D(32, (3, 3), activation='relu', input_shape=(150, 150, 3)),\n",
    "    layers.MaxPooling2D((2, 2)),\n",
    "    layers.Conv2D(64, (3, 3), activation='relu'),\n",
    "    layers.MaxPooling2D((2, 2)),\n",
    "    layers.Conv2D(128, (3, 3), activation='relu'),\n",
    "    layers.MaxPooling2D((2, 2)),\n",
    "    layers.Conv2D(128, (3, 3), activation='relu'),\n",
    "    layers.MaxPooling2D((2, 2)),\n",
    "    layers.Flatten(),\n",
    "    layers.Dense(512, activation='relu'),\n",
    "    layers.Dense(1, activation='sigmoid')\n",
    "])"
   ]
  },
  {
   "cell_type": "code",
   "execution_count": 18,
   "id": "3a84d917-6217-4ef1-adaa-5d0e46b680d8",
   "metadata": {},
   "outputs": [
    {
     "name": "stdout",
     "output_type": "stream",
     "text": [
      "WARNING:tensorflow:From C:\\Users\\Rugved Joshi\\AppData\\Local\\Programs\\Python\\Python310\\lib\\site-packages\\keras\\src\\optimizers\\__init__.py:309: The name tf.train.Optimizer is deprecated. Please use tf.compat.v1.train.Optimizer instead.\n",
      "\n"
     ]
    }
   ],
   "source": [
    "model.compile(optimizer='adam', loss='binary_crossentropy', metrics=['accuracy'])"
   ]
  },
  {
   "cell_type": "code",
   "execution_count": 19,
   "id": "4caf2438-d19f-48e4-9e4a-967dff171dab",
   "metadata": {},
   "outputs": [
    {
     "name": "stdout",
     "output_type": "stream",
     "text": [
      "Model: \"sequential\"\n",
      "_________________________________________________________________\n",
      " Layer (type)                Output Shape              Param #   \n",
      "=================================================================\n",
      " conv2d (Conv2D)             (None, 148, 148, 32)      896       \n",
      "                                                                 \n",
      " max_pooling2d (MaxPooling2  (None, 74, 74, 32)        0         \n",
      " D)                                                              \n",
      "                                                                 \n",
      " conv2d_1 (Conv2D)           (None, 72, 72, 64)        18496     \n",
      "                                                                 \n",
      " max_pooling2d_1 (MaxPoolin  (None, 36, 36, 64)        0         \n",
      " g2D)                                                            \n",
      "                                                                 \n",
      " conv2d_2 (Conv2D)           (None, 34, 34, 128)       73856     \n",
      "                                                                 \n",
      " max_pooling2d_2 (MaxPoolin  (None, 17, 17, 128)       0         \n",
      " g2D)                                                            \n",
      "                                                                 \n",
      " conv2d_3 (Conv2D)           (None, 15, 15, 128)       147584    \n",
      "                                                                 \n",
      " max_pooling2d_3 (MaxPoolin  (None, 7, 7, 128)         0         \n",
      " g2D)                                                            \n",
      "                                                                 \n",
      " flatten (Flatten)           (None, 6272)              0         \n",
      "                                                                 \n",
      " dense (Dense)               (None, 512)               3211776   \n",
      "                                                                 \n",
      " dense_1 (Dense)             (None, 1)                 513       \n",
      "                                                                 \n",
      "=================================================================\n",
      "Total params: 3453121 (13.17 MB)\n",
      "Trainable params: 3453121 (13.17 MB)\n",
      "Non-trainable params: 0 (0.00 Byte)\n",
      "_________________________________________________________________\n"
     ]
    }
   ],
   "source": [
    "model.summary()"
   ]
  },
  {
   "cell_type": "code",
   "execution_count": 20,
   "id": "926099eb-9d95-472c-bc60-aec5def30394",
   "metadata": {},
   "outputs": [
    {
     "name": "stdout",
     "output_type": "stream",
     "text": [
      "Epoch 1/20\n",
      "WARNING:tensorflow:From C:\\Users\\Rugved Joshi\\AppData\\Local\\Programs\\Python\\Python310\\lib\\site-packages\\keras\\src\\utils\\tf_utils.py:492: The name tf.ragged.RaggedTensorValue is deprecated. Please use tf.compat.v1.ragged.RaggedTensorValue instead.\n",
      "\n",
      "WARNING:tensorflow:From C:\\Users\\Rugved Joshi\\AppData\\Local\\Programs\\Python\\Python310\\lib\\site-packages\\keras\\src\\engine\\base_layer_utils.py:384: The name tf.executing_eagerly_outside_functions is deprecated. Please use tf.compat.v1.executing_eagerly_outside_functions instead.\n",
      "\n",
      "63/63 [==============================] - 25s 376ms/step - loss: 0.7045 - accuracy: 0.5065 - val_loss: 0.6927 - val_accuracy: 0.5010\n",
      "Epoch 2/20\n",
      "63/63 [==============================] - 22s 355ms/step - loss: 0.6894 - accuracy: 0.5135 - val_loss: 0.6647 - val_accuracy: 0.5760\n",
      "Epoch 3/20\n",
      "63/63 [==============================] - 22s 354ms/step - loss: 0.6736 - accuracy: 0.5765 - val_loss: 0.6499 - val_accuracy: 0.6200\n",
      "Epoch 4/20\n",
      "63/63 [==============================] - 23s 356ms/step - loss: 0.6603 - accuracy: 0.5895 - val_loss: 0.6495 - val_accuracy: 0.6020\n",
      "Epoch 5/20\n",
      "63/63 [==============================] - 22s 351ms/step - loss: 0.6567 - accuracy: 0.5845 - val_loss: 0.6499 - val_accuracy: 0.5780\n",
      "Epoch 6/20\n",
      "63/63 [==============================] - 22s 353ms/step - loss: 0.6641 - accuracy: 0.5990 - val_loss: 0.6733 - val_accuracy: 0.5600\n",
      "Epoch 7/20\n",
      "63/63 [==============================] - 24s 373ms/step - loss: 0.6560 - accuracy: 0.6210 - val_loss: 0.6480 - val_accuracy: 0.5950\n",
      "Epoch 8/20\n",
      "63/63 [==============================] - 23s 359ms/step - loss: 0.6112 - accuracy: 0.6670 - val_loss: 0.5851 - val_accuracy: 0.6730\n",
      "Epoch 9/20\n",
      "63/63 [==============================] - 22s 354ms/step - loss: 0.6190 - accuracy: 0.6630 - val_loss: 0.6001 - val_accuracy: 0.6610\n",
      "Epoch 10/20\n",
      "63/63 [==============================] - 22s 354ms/step - loss: 0.6032 - accuracy: 0.6765 - val_loss: 0.5826 - val_accuracy: 0.7020\n",
      "Epoch 11/20\n",
      "63/63 [==============================] - 22s 355ms/step - loss: 0.5879 - accuracy: 0.6760 - val_loss: 0.6331 - val_accuracy: 0.6690\n",
      "Epoch 12/20\n",
      "63/63 [==============================] - 22s 356ms/step - loss: 0.6269 - accuracy: 0.6400 - val_loss: 0.6124 - val_accuracy: 0.6790\n",
      "Epoch 13/20\n",
      "63/63 [==============================] - 22s 358ms/step - loss: 0.6137 - accuracy: 0.6725 - val_loss: 0.5998 - val_accuracy: 0.6750\n",
      "Epoch 14/20\n",
      "63/63 [==============================] - 23s 365ms/step - loss: 0.5920 - accuracy: 0.6850 - val_loss: 0.5475 - val_accuracy: 0.7170\n",
      "Epoch 15/20\n",
      "63/63 [==============================] - 22s 353ms/step - loss: 0.5767 - accuracy: 0.6925 - val_loss: 0.5652 - val_accuracy: 0.7070\n",
      "Epoch 16/20\n",
      "63/63 [==============================] - 23s 362ms/step - loss: 0.5628 - accuracy: 0.7035 - val_loss: 0.5319 - val_accuracy: 0.7200\n",
      "Epoch 17/20\n",
      "63/63 [==============================] - 23s 361ms/step - loss: 0.5723 - accuracy: 0.6965 - val_loss: 0.5295 - val_accuracy: 0.7360\n",
      "Epoch 18/20\n",
      "63/63 [==============================] - 23s 360ms/step - loss: 0.5681 - accuracy: 0.7135 - val_loss: 0.5314 - val_accuracy: 0.7320\n",
      "Epoch 19/20\n",
      "63/63 [==============================] - 23s 360ms/step - loss: 0.5497 - accuracy: 0.7105 - val_loss: 0.5571 - val_accuracy: 0.7010\n",
      "Epoch 20/20\n",
      "63/63 [==============================] - 22s 350ms/step - loss: 0.5555 - accuracy: 0.7080 - val_loss: 0.5491 - val_accuracy: 0.7190\n"
     ]
    }
   ],
   "source": [
    "# Training the model\n",
    "history = model.fit(\n",
    "    train_generator,\n",
    "    steps_per_epoch=train_steps_per_epoch,\n",
    "    epochs=20,\n",
    "    validation_data=validation_generator,\n",
    "    validation_steps=validation_steps_per_epoch\n",
    ")"
   ]
  },
  {
   "cell_type": "code",
   "execution_count": 21,
   "id": "35f85a64-2398-4e0e-94b4-03b2dda30cb9",
   "metadata": {},
   "outputs": [],
   "source": [
    "# Plotting training and validation accuracy\n",
    "acc = history.history['accuracy']\n",
    "val_acc = history.history['val_accuracy']\n",
    "loss = history.history['loss']\n",
    "val_loss = history.history['val_loss']"
   ]
  },
  {
   "cell_type": "code",
   "execution_count": 22,
   "id": "535356a0-a6b2-4cac-ae49-54aef31ce44a",
   "metadata": {},
   "outputs": [],
   "source": [
    "epochs = range(len(acc))"
   ]
  },
  {
   "cell_type": "code",
   "execution_count": 23,
   "id": "24a03ed5-b7ca-4f29-a966-803e2be05da3",
   "metadata": {},
   "outputs": [
    {
     "data": {
      "text/plain": [
       "<Figure size 640x480 with 0 Axes>"
      ]
     },
     "execution_count": 23,
     "metadata": {},
     "output_type": "execute_result"
    },
    {
     "data": {
      "image/png": "[encoded data removed]",
      "text/plain": [
       "<Figure size 640x480 with 1 Axes>"
      ]
     },
     "metadata": {},
     "output_type": "display_data"
    },
    {
     "data": {
      "text/plain": [
       "<Figure size 640x480 with 0 Axes>"
      ]
     },
     "metadata": {},
     "output_type": "display_data"
    }
   ],
   "source": [
    "plt.plot(epochs, acc, 'r', label='Training accuracy')\n",
    "plt.plot(epochs, val_acc, 'b', label='Validation accuracy')\n",
    "plt.title('Training and validation accuracy')\n",
    "plt.legend()\n",
    "\n",
    "plt.figure()"
   ]
  },
  {
   "cell_type": "code",
   "execution_count": 24,
   "id": "e66eb79b-ec20-49d5-95a7-f2f50a83bc98",
   "metadata": {},
   "outputs": [
    {
     "data": {
      "image/png": "[encoded data removed]",
      "text/plain": [
       "<Figure size 640x480 with 1 Axes>"
      ]
     },
     "metadata": {},
     "output_type": "display_data"
    }
   ],
   "source": [
    "plt.plot(epochs, loss, 'r', label='Training loss')\n",
    "plt.plot(epochs, val_loss, 'b', label='Validation loss')\n",
    "plt.title('Training and validation loss')\n",
    "plt.legend()\n",
    "\n",
    "plt.show()"
   ]
  },
  {
   "cell_type": "code",
   "execution_count": 25,
   "id": "0eeb0c76-2d12-4365-b25e-1327a6a682b2",
   "metadata": {},
   "outputs": [
    {
     "name": "stderr",
     "output_type": "stream",
     "text": [
      "C:\\Users\\Rugved Joshi\\AppData\\Local\\Programs\\Python\\Python310\\lib\\site-packages\\keras\\src\\engine\\training.py:3103: UserWarning: You are saving your model as an HDF5 file via `model.save()`. This file format is considered legacy. We recommend using instead the native Keras format, e.g. `model.save('my_model.keras')`.\n",
      "  saving_api.save_model(\n"
     ]
    }
   ],
   "source": [
    "# Saving the model\n",
    "model.save('cats_and_dogs_classifier.h5')"
   ]
  },
  {
   "cell_type": "code",
   "execution_count": 26,
   "id": "4558a930-3595-4a78-b7f3-b51fc2ac0df1",
   "metadata": {},
   "outputs": [],
   "source": [
    "# Inference example\n",
    "from tensorflow.keras.models import load_model\n",
    "import numpy as np\n",
    "from tensorflow.keras.preprocessing import image"
   ]
  },
  {
   "cell_type": "code",
   "execution_count": 27,
   "id": "bc52afd2-ca54-418e-b967-12bce90d6e7a",
   "metadata": {},
   "outputs": [],
   "source": [
    "# Load the model\n",
    "model = load_model('cats_and_dogs_classifier.h5')"
   ]
  },
  {
   "cell_type": "code",
   "execution_count": 30,
   "id": "00e18e55-ec71-49d3-b4f4-b5ff890a2c4e",
   "metadata": {},
   "outputs": [],
   "source": [
    "# Load and preprocess the image\n",
    "img_path = r\"C:\\Users\\Rugved Joshi\\OneDrive\\Desktop\\dog.jpeg\"\n",
    "img = image.load_img(img_path, target_size=(150, 150))\n",
    "img_array = image.img_to_array(img)\n",
    "img_array = np.expand_dims(img_array, axis=0)\n",
    "img_array /= 255."
   ]
  },
  {
   "cell_type": "code",
   "execution_count": 31,
   "id": "62eb6921-4ed6-45df-9ffb-c88e0fa5c597",
   "metadata": {},
   "outputs": [
    {
     "name": "stdout",
     "output_type": "stream",
     "text": [
      "1/1 [==============================] - 0s 145ms/step\n",
      "It's a dog!\n"
     ]
    }
   ],
   "source": [
    "# Make prediction\n",
    "prediction = model.predict(img_array)\n",
    "if prediction[0] > 0.5:\n",
    "    print(\"It's a dog!\")\n",
    "else:\n",
    "    print(\"It's a cat!\")"
   ]
  }
 ],
 "metadata": {
  "kernelspec": {
   "display_name": "Python 3 (ipykernel)",
   "language": "python",
   "name": "python3"
  },
  "language_info": {
   "codemirror_mode": {
    "name": "ipython",
    "version": 3
   },
   "file_extension": ".py",
   "mimetype": "text/x-python",
   "name": "python",
   "nbconvert_exporter": "python",
   "pygments_lexer": "ipython3",
   "version": "3.10.11"
  }
 },
 "nbformat": 4,
 "nbformat_minor": 5
}
